{
 "cells": [
  {
   "cell_type": "code",
   "execution_count": 25,
   "id": "3f313a7c",
   "metadata": {},
   "outputs": [
    {
     "name": "stderr",
     "output_type": "stream",
     "text": [
      "[WARNING] [Config      ] Older configuration version detected (0 instead of 27)\n",
      "[WARNING] [Config      ] Upgrading configuration in progress.\n",
      "[DEBUG  ] [Config      ] Upgrading from 0 to 1\n",
      "[INFO   ] [Logger      ] Record log in C:\\Users\\HP\\.kivy\\logs\\kivy_24-09-11_0.txt\n",
      "[INFO   ] [deps        ] Successfully imported \"kivy_deps.angle\" 0.4.0\n",
      "[INFO   ] [deps        ] Successfully imported \"kivy_deps.glew\" 0.3.1\n",
      "[INFO   ] [deps        ] Successfully imported \"kivy_deps.sdl2\" 0.7.0\n",
      "[INFO   ] [Kivy        ] v2.3.0\n",
      "[INFO   ] [Kivy        ] Installed at \"C:\\Users\\HP\\anaconda3\\lib\\site-packages\\kivy\\__init__.py\"\n",
      "[INFO   ] [Python      ] v3.9.12 (main, Apr  4 2022, 05:22:27) [MSC v.1916 64 bit (AMD64)]\n",
      "[INFO   ] [Python      ] Interpreter at \"C:\\Users\\HP\\anaconda3\\python.exe\"\n",
      "[INFO   ] [Logger      ] Purge log fired. Processing...\n",
      "[INFO   ] [Logger      ] Purge finished!\n",
      "[INFO   ] [Image       ] Providers: img_tex, img_dds, img_sdl2, img_pil (img_ffpyplayer ignored)\n",
      "[INFO   ] [Text        ] Provider: sdl2\n",
      "[INFO   ] [Factory     ] 195 symbols loaded\n"
     ]
    }
   ],
   "source": [
    "import kivy\n"
   ]
  },
  {
   "cell_type": "code",
   "execution_count": 29,
   "id": "26bcfdc6",
   "metadata": {},
   "outputs": [
    {
     "ename": "NameError",
     "evalue": "name 'App' is not defined",
     "output_type": "error",
     "traceback": [
      "\u001b[1;31m---------------------------------------------------------------------------\u001b[0m",
      "\u001b[1;31mNameError\u001b[0m                                 Traceback (most recent call last)",
      "Input \u001b[1;32mIn [29]\u001b[0m, in \u001b[0;36m<cell line: 3>\u001b[1;34m()\u001b[0m\n\u001b[0;32m      1\u001b[0m \u001b[38;5;28;01mfrom\u001b[39;00m \u001b[38;5;21;01mkivy\u001b[39;00m\u001b[38;5;21;01m.\u001b[39;00m\u001b[38;5;21;01mcore\u001b[39;00m \u001b[38;5;28;01mimport\u001b[39;00m text\n\u001b[0;32m      2\u001b[0m \u001b[38;5;28;01mfrom\u001b[39;00m \u001b[38;5;21;01mkivy\u001b[39;00m\u001b[38;5;21;01m.\u001b[39;00m\u001b[38;5;21;01muix\u001b[39;00m\u001b[38;5;21;01m.\u001b[39;00m\u001b[38;5;21;01mlabel\u001b[39;00m \u001b[38;5;28;01mimport\u001b[39;00m Label\n\u001b[1;32m----> 3\u001b[0m \u001b[38;5;28;01mclass\u001b[39;00m \u001b[38;5;21;01mMyApp\u001b[39;00m(\u001b[43mApp\u001b[49m):\n\u001b[0;32m      4\u001b[0m     \u001b[38;5;28;01mdef\u001b[39;00m \u001b[38;5;21mbuild\u001b[39m(\u001b[38;5;28mself\u001b[39m):\n\u001b[0;32m      5\u001b[0m         \u001b[38;5;28;01mreturn\u001b[39;00m Label(text\u001b[38;5;241m=\u001b[39m\u001b[38;5;124m\"\u001b[39m\u001b[38;5;124mHello Kivy\u001b[39m\u001b[38;5;124m\"\u001b[39m)\n",
      "\u001b[1;31mNameError\u001b[0m: name 'App' is not defined"
     ]
    }
   ],
   "source": [
    "from kivy.core import text\n",
    "from kivy.uix.label import Label\n",
    "class MyApp(App):\n",
    "    def build(self):\n",
    "        return Label(text=\"Hello Kivy\")\n",
    "    \n",
    "MyApp().run()"
   ]
  },
  {
   "cell_type": "code",
   "execution_count": null,
   "id": "0cba61e9",
   "metadata": {},
   "outputs": [],
   "source": []
  }
 ],
 "metadata": {
  "kernelspec": {
   "display_name": "Python 3 (ipykernel)",
   "language": "python",
   "name": "python3"
  },
  "language_info": {
   "codemirror_mode": {
    "name": "ipython",
    "version": 3
   },
   "file_extension": ".py",
   "mimetype": "text/x-python",
   "name": "python",
   "nbconvert_exporter": "python",
   "pygments_lexer": "ipython3",
   "version": "3.9.12"
  }
 },
 "nbformat": 4,
 "nbformat_minor": 5
}
